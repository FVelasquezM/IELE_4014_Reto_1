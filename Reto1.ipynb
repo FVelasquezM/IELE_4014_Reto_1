{
 "cells": [
  {
   "cell_type": "markdown",
   "metadata": {},
   "source": [
    "**IELE_4014**  \n",
    "**Felipe Velásquez Montoya**\n",
    "&nbsp;&nbsp;&nbsp;&nbsp; *cód estudiante:* 201632422\n",
    "# Reto 1\n",
    "Problema de clasificación de Pulsares utilizando el dataset HTRU2 (https://archive.ics.uci.edu/ml/datasets/HTRU2) y regresión logística de scikit learn."
   ]
  },
  {
   "cell_type": "markdown",
   "metadata": {},
   "source": [
    "**Paso 0**   \n",
    "Instalación de dependencia sklearn (para modelos), numpy (para matrices y funciones mateḿaticas) y matplotlib para gráficas."
   ]
  },
  {
   "cell_type": "code",
   "execution_count": 50,
   "metadata": {},
   "outputs": [
    {
     "name": "stdout",
     "output_type": "stream",
     "text": [
      "Requirement already satisfied: sklearn in /home/felipe/.local/lib/python3.7/site-packages (0.0)\n",
      "Requirement already satisfied: scikit-learn in /home/felipe/anaconda3/lib/python3.7/site-packages (from sklearn) (0.20.3)\n",
      "Requirement already satisfied: scipy>=0.13.3 in /home/felipe/anaconda3/lib/python3.7/site-packages (from scikit-learn->sklearn) (1.2.1)\n",
      "Requirement already satisfied: numpy>=1.8.2 in /home/felipe/anaconda3/lib/python3.7/site-packages (from scikit-learn->sklearn) (1.16.2)\n",
      "Note: you may need to restart the kernel to use updated packages.\n",
      "Requirement already satisfied: numpy in /home/felipe/anaconda3/lib/python3.7/site-packages (1.16.2)\n",
      "Note: you may need to restart the kernel to use updated packages.\n",
      "Collecting matplotlib.pyplot\n",
      "\u001b[31m  Could not find a version that satisfies the requirement matplotlib.pyplot (from versions: )\u001b[0m\n",
      "\u001b[31mNo matching distribution found for matplotlib.pyplot\u001b[0m\n",
      "Note: you may need to restart the kernel to use updated packages.\n"
     ]
    }
   ],
   "source": [
    "%pip install --user sklearn\n",
    "%pip install --user numpy\n",
    "%pip install --user matplotlib.pyplot"
   ]
  },
  {
   "cell_type": "markdown",
   "metadata": {},
   "source": [
    "**Primera parte: Carga y preparación de datos**   \n",
    "Se inicia importando librerías y módulos de sklearn necesarios para realizar el ejercicio"
   ]
  },
  {
   "cell_type": "code",
   "execution_count": 2,
   "metadata": {},
   "outputs": [],
   "source": [
    "from sklearn.model_selection import train_test_split\n",
    "from sklearn.linear_model import LogisticRegression\n",
    "import numpy as np\n",
    "import matplotlib.pyplot as plt"
   ]
  },
  {
   "cell_type": "markdown",
   "metadata": {},
   "source": [
    "A continuación, se cargan los datos de su correspondiente csv. Como se puede comprobar, los datos cargados tienen 17898 filas y 9 columnas, las primeras 8 corresponden al vector X y la última a la clase (y) que se busca predecir."
   ]
  },
  {
   "cell_type": "code",
   "execution_count": 18,
   "metadata": {},
   "outputs": [
    {
     "name": "stdout",
     "output_type": "stream",
     "text": [
      "Filas de la matriz: 17898\n",
      "Columnas de la matriz: 9\n"
     ]
    }
   ],
   "source": [
    "data_matrix = np.loadtxt(open(\"./HTRU2/HTRU_2.csv\", \"rb\"), delimiter=\",\", skiprows=0)\n",
    "\n",
    "print(\"Filas de la matriz: \" + str(len(data_matrix)))\n",
    "print(\"Columnas de la matriz: \" + str(len(data_matrix[0])))\n",
    "\n",
    "X = np.resize(data_matrix, (len(data_matrix), len(data_matrix[0])-1))\n",
    "y = data_matrix[:,8]"
   ]
  },
  {
   "cell_type": "markdown",
   "metadata": {},
   "source": [
    "Se utiliza la función train_test_split de sklearn para realizar la separación de datos de entrenamiento y datos de prueba. Como indica el enunciado del reto, 10000 datos son reservados para prueba y los restantes son utilizados para entrenamiento."
   ]
  },
  {
   "cell_type": "code",
   "execution_count": 19,
   "metadata": {},
   "outputs": [
    {
     "name": "stdout",
     "output_type": "stream",
     "text": [
      "Tamaño X entrenamiento: 7898 | Tamaño y entrenamiento: 7898\n",
      "Tamaño X prueba: 10000 | Tamaño y prueba: 10000\n"
     ]
    }
   ],
   "source": [
    "X_train, X_test, y_train, y_test = train_test_split(X, y, test_size = 10000.00/float(len(X))) \n",
    "\n",
    "print(\"Tamaño X entrenamiento: %s | Tamaño y entrenamiento: %s\" % (len(X_train), len(y_train)))\n",
    "print(\"Tamaño X prueba: %s | Tamaño y prueba: %s\" % (len(X_test), len(y_test)))"
   ]
  },
  {
   "cell_type": "markdown",
   "metadata": {},
   "source": [
    "Ahora, los datos reservados para el entrenamiento se parten de nuevo en grupos de 5000, 1000, 500 y 100 elementos elegidos aleatoriamente de los conjuntos *X_train* y *y_train* originales. Para esto, se vuelve a utilizar la función se sklear *train_test_split*."
   ]
  },
  {
   "cell_type": "code",
   "execution_count": 40,
   "metadata": {},
   "outputs": [
    {
     "name": "stdout",
     "output_type": "stream",
     "text": [
      "-----------------------------\n",
      "Set de entrenamiento 0\n",
      "    Tamaño X de entrenamiento: 100 | Tamaño y de entrenamiento: 100\n",
      "-----------------------------\n",
      "Set de entrenamiento 1\n",
      "    Tamaño X de entrenamiento: 500 | Tamaño y de entrenamiento: 500\n",
      "-----------------------------\n",
      "Set de entrenamiento 2\n",
      "    Tamaño X de entrenamiento: 1000 | Tamaño y de entrenamiento: 1000\n",
      "-----------------------------\n",
      "Set de entrenamiento 3\n",
      "    Tamaño X de entrenamiento: 5000 | Tamaño y de entrenamiento: 5000\n"
     ]
    }
   ],
   "source": [
    "sizes = [100.00, 500.00, 1000.00, 5000.00]\n",
    "X_train_array = []\n",
    "y_train_array = []\n",
    "\n",
    "for i in sizes:\n",
    "    Xy = train_test_split(X_train, y_train, test_size = 1.00 - i/float(len(X_train)))\n",
    "    X_train_array.append(Xy[0])\n",
    "    y_train_array.append(Xy[2])\n",
    "    \n",
    "#Verificar tamaños de los nuevos sets de entrenamiento\n",
    "for i in range(0, len(X_train_array)):\n",
    "    print(\"-----------------------------\")\n",
    "    print(\"Set de entrenamiento %s\" % i)\n",
    "    print(\"    Tamaño X de entrenamiento: %s | Tamaño y de entrenamiento: %s\" \n",
    "          % (len(X_train_array[i]), len(y_train_array[i])))"
   ]
  },
  {
   "cell_type": "markdown",
   "metadata": {},
   "source": [
    "A continuación, se entrenan 4 modelos de regresión logística, uno para cada tamaño de datos de entrenamiento, utilizando los distintos conjuntos de entrenamiento. Se utiliza el solver lbfgs de SciKit learn.\n"
   ]
  },
  {
   "cell_type": "code",
   "execution_count": 41,
   "metadata": {},
   "outputs": [
    {
     "name": "stdout",
     "output_type": "stream",
     "text": [
      "El Modelo entrenado con 100.0 datos predijo correctamente el 0.907 porciento de los datos de entrenamiento\n",
      "El Modelo entrenado con 500.0 datos predijo correctamente el 0.9069 porciento de los datos de entrenamiento\n",
      "El Modelo entrenado con 1000.0 datos predijo correctamente el 0.9059 porciento de los datos de entrenamiento\n",
      "El Modelo entrenado con 5000.0 datos predijo correctamente el 0.907 porciento de los datos de entrenamiento\n"
     ]
    }
   ],
   "source": [
    "logreg_array = []\n",
    "logreg_score = []\n",
    "\n",
    "for i in range(0, len(X_train_array)):\n",
    "    #Se entrena la regresión logística con el conjunto de entrenamiento correspondiente.\n",
    "    logreg_array.append(LogisticRegression(solver=\"lbfgs\").fit(X_train_array[i], y_train_array[i]))\n",
    "    \n",
    "    #Se prueba la regresión logística con los conjuntos de prueba:\n",
    "    logreg_score.append(logreg_array[i].score(X_test, y_test))\n",
    "    \n",
    "    #Se imprimen los resultados del modelo\n",
    "    print(\"El Modelo entrenado con %s datos predijo correctamente el %s porciento de los datos de entrenamiento\" \n",
    "         % (sizes[i], logreg_score[i]))\n"
   ]
  },
  {
   "cell_type": "markdown",
   "metadata": {},
   "source": [
    "Como se puede comprobar, los modelos obtuvieron una precisión de alrededor del 90%, sin mayor diferencia entre los distintos conjuntos de datos de entrenamiento. Vale la pena observar que el desempeño de estos no es comparable, pues no se reservaron datos de validación. "
   ]
  },
  {
   "cell_type": "markdown",
   "metadata": {},
   "source": [
    "Sin embargo, debe observarse que el porcentaje de predicciones correctas es muy cercano a la frecuencia de la clase más común, es decir, es muy probable que el clasificador esté asignándole la clase más frecuente a todos. Para comprobar esto, se hace una matriz de confusión sobre el último modelo:"
   ]
  },
  {
   "cell_type": "code",
   "execution_count": 22,
   "metadata": {},
   "outputs": [
    {
     "name": "stdout",
     "output_type": "stream",
     "text": [
      "Class 0: 9097 | Class 1: 903\n"
     ]
    },
    {
     "data": {
      "image/png": "[encoded data removed]",
      "text/plain": [
       "<Figure size 432x288 with 1 Axes>"
      ]
     },
     "metadata": {
      "needs_background": "light"
     },
     "output_type": "display_data"
    }
   ],
   "source": [
    "one = 0\n",
    "zero = 0\n",
    "\n",
    "for i in range(0, len(y_test)):\n",
    "    if y_test[i] == 0:\n",
    "        zero += 1\n",
    "    else: \n",
    "        one+= 1\n",
    "        \n",
    "print(\"Class 0: %s | Class 1: %s\" %(zero, one))\n",
    "                                    \n",
    "plt.figure()\n",
    "plt.hist(y)\n",
    "plt.title('Frecuencias de las clases')\n",
    "plt.xlabel('Clase')\n",
    "plt.ylabel('Frecuencia')\n",
    "plt.xticks([0,1])\n",
    "plt.grid(False)\n",
    "plt.show()\n",
    "plt.close()"
   ]
  },
  {
   "cell_type": "code",
   "execution_count": 60,
   "metadata": {},
   "outputs": [
    {
     "name": "stdout",
     "output_type": "stream",
     "text": [
      "| TP: 0 | FP: 0 \n",
      "| TN: 9070 | FN: 930\n"
     ]
    }
   ],
   "source": [
    "tp = 0\n",
    "fp = 0\n",
    "tn = 0\n",
    "fn = 0\n",
    "\n",
    "for i in range(0, len(X_test)):\n",
    "    pred = logreg_array[3].predict(X_test[i].reshape(1, -1))\n",
    "    \n",
    "    if pred == 1 and y_test[i] == 1:\n",
    "        tp += 1\n",
    "    elif pred ==0 and y_test[i] == 0:\n",
    "        tn += 1\n",
    "    elif pred == 1 and y_test[i] == 0:\n",
    "        fp += 1\n",
    "    else:\n",
    "        fn +=1\n",
    "        \n",
    "print(\"| TP: %s | FP: %s \\n| TN: %s | FN: %s\" %(tp,fp,tn,fn))"
   ]
  },
  {
   "cell_type": "markdown",
   "metadata": {},
   "source": [
    "Como se puede comprobar por la matriz de confusión que el modelo siempre está prediciendo la clase 0."
   ]
  },
  {
   "cell_type": "markdown",
   "metadata": {},
   "source": [
    "Para comprobar si es posible realizar una clasificación real utilizando una regresión logística, se realiza un oversampling de la clase minoritaria utilizando el algoritmo SMOTE en el programa Knime. A continuación, se vuelven a entrenar los modelos sobre el nuevo conjunto de datos.\n",
    "\n",
    "**TODO** revisar smote"
   ]
  },
  {
   "cell_type": "code",
   "execution_count": 40,
   "metadata": {},
   "outputs": [
    {
     "name": "stdout",
     "output_type": "stream",
     "text": [
      "Filas de la matriz: 32518\n",
      "Columnas de la matriz: 9\n",
      "Tamaño X entrenamiento: 22518 | Tamaño y entrenamiento: 22518\n",
      "Tamaño X prueba: 10000 | Tamaño y prueba: 10000\n"
     ]
    },
    {
     "data": {
      "image/png": "[encoded data removed]",
      "text/plain": [
       "<Figure size 432x288 with 1 Axes>"
      ]
     },
     "metadata": {
      "needs_background": "light"
     },
     "output_type": "display_data"
    },
    {
     "name": "stdout",
     "output_type": "stream",
     "text": [
      "-----------------------------\n",
      "Set de entrenamiento 0\n",
      "    Tamaño X de entrenamiento: 100 | Tamaño y de entrenamiento: 100\n",
      "-----------------------------\n",
      "Set de entrenamiento 1\n",
      "    Tamaño X de entrenamiento: 500 | Tamaño y de entrenamiento: 500\n",
      "-----------------------------\n",
      "Set de entrenamiento 2\n",
      "    Tamaño X de entrenamiento: 1000 | Tamaño y de entrenamiento: 1000\n",
      "-----------------------------\n",
      "Set de entrenamiento 3\n",
      "    Tamaño X de entrenamiento: 5000 | Tamaño y de entrenamiento: 5000\n",
      "El Modelo entrenado con 100.0 datos predijo correctamente el 0.4985 porciento de los datos de entrenamiento\n",
      "El Modelo entrenado con 500.0 datos predijo correctamente el 0.536 porciento de los datos de entrenamiento\n",
      "El Modelo entrenado con 1000.0 datos predijo correctamente el 0.1246 porciento de los datos de entrenamiento\n",
      "El Modelo entrenado con 5000.0 datos predijo correctamente el 0.4993 porciento de los datos de entrenamiento\n",
      "TP: 2476 | FP: 2525 | TN: 2490 | FN: 2509\n"
     ]
    }
   ],
   "source": [
    "data_matrix_smote = np.loadtxt(open(\"./HTRU2/HTRU_2_oversampled.csv\", \"rb\"), delimiter=\",\", skiprows=0)\n",
    "\n",
    "print(\"Filas de la matriz: \" + str(len(data_matrix_smote)))\n",
    "print(\"Columnas de la matriz: \" + str(len(data_matrix_smote[0])))\n",
    "\n",
    "X_smote = np.resize(data_matrix, (len(data_matrix_smote), len(data_matrix_smote[0])-1))\n",
    "y_smote = data_matrix_smote[:,8]\n",
    "\n",
    "X_train_smote, X_test_smote, y_train_smote, y_test_smote = train_test_split(X_smote, y_smote, test_size = 10000.00/float(len(X_smote))) \n",
    "\n",
    "print(\"Tamaño X entrenamiento: %s | Tamaño y entrenamiento: %s\" % (len(X_train_smote), len(y_train_smote)))\n",
    "print(\"Tamaño X prueba: %s | Tamaño y prueba: %s\" % (len(X_test_smote), len(y_test_smote)))\n",
    "\n",
    "sizes_smote = [100.00, 500.00, 1000.00, 5000.00]\n",
    "X_train_array_smote = []\n",
    "y_train_array_smote = []\n",
    "\n",
    "\n",
    "plt.figure()\n",
    "plt.hist(y_smote)\n",
    "plt.title('Frecuencias de las clases')\n",
    "plt.xlabel('Clase')\n",
    "plt.ylabel('Frecuencia')\n",
    "plt.xticks([0,1])\n",
    "plt.grid(False)\n",
    "plt.show()\n",
    "plt.close()\n",
    "\n",
    "for i in sizes_smote:\n",
    "    Xy_smote = train_test_split(X_train_smote, y_train_smote, test_size = 1.00 - i/float(len(X_train_smote)))\n",
    "    X_train_array_smote.append(Xy_smote[0])\n",
    "    y_train_array_smote.append(Xy_smote[2])\n",
    "    \n",
    "#Verificar tamaños de los nuevos sets de entrenamiento\n",
    "for i in range(0, len(X_train_array_smote)):\n",
    "    print(\"-----------------------------\")\n",
    "    print(\"Set de entrenamiento %s\" % i)\n",
    "    print(\"    Tamaño X de entrenamiento: %s | Tamaño y de entrenamiento: %s\" \n",
    "          % (len(X_train_array_smote[i]), len(y_train_array_smote[i])))\n",
    "    \n",
    "logreg_array_smote = []\n",
    "logreg_score_smote = []\n",
    "\n",
    "for i in range(0, len(X_train_array_smote)):\n",
    "    #Se entrena la regresión logística con el conjunto de entrenamiento correspondiente.\n",
    "    logreg_array_smote.append(LogisticRegression(solver=\"lbfgs\").fit(X_train_array_smote[i], y_train_array_smote[i]))\n",
    "    \n",
    "    #Se prueba la regresión logística con los conjuntos de prueba:\n",
    "    logreg_score_smote.append(logreg_array_smote[i].score(X_test, y_test))\n",
    "    \n",
    "    #Se imprimen los resultados del modelo\n",
    "    print(\"El Modelo entrenado con %s datos predijo correctamente el %s porciento de los datos de entrenamiento\" \n",
    "         % (sizes_smote[i], logreg_score_smote[i]))\n",
    "\n",
    "    \n",
    "tp = 0\n",
    "fp = 0\n",
    "tn = 0\n",
    "fn = 0\n",
    "\n",
    "for i in range(0, len(X_test_smote)):\n",
    "    pred = logreg_array_smote[3].predict(X_test_smote[i].reshape(1, -1))\n",
    "    \n",
    "    if pred == 1 and y_test_smote[i] == 1:\n",
    "        tp += 1\n",
    "    elif pred ==0 and y_test_smote[i] == 0:\n",
    "        tn += 1\n",
    "    elif pred == 1 and y_test_smote[i] == 0:\n",
    "        fp += 1\n",
    "    else:\n",
    "        fn +=1\n",
    "        \n",
    "print(\"TP: %s | FP: %s | TN: %s | FN: %s\" %(tp,fp,tn,fn))"
   ]
  },
  {
   "cell_type": "markdown",
   "metadata": {},
   "source": [
    "Como puede observarse, se entrenaron las regresiones logísticas utilizando un conjunto de datos en el cual se le realizó oversampling a la clase minoritaria utilizando SMOTE para que quedaran balanceados.<br>\n",
    "\n",
    "A continuación, se probaron los modelos utilizando el conjunto de datos de prueba original. Sin embargo, como puede observarse,  desempeño de los modelos es inconsistente y pobre, encontrandose inclusive, con una exactitud menor al 50%. Aún así debe resaltarse que, con estos modelos se hacen algunas predicciones (aunque pobres) de la clase 1. <br>\n",
    "\n",
    "En vista de los pobres resultados que tuvo la clasificación utilizando el modelo lineal, sería necesario probar otros tipos de modelos."
   ]
  }
 ],
 "metadata": {
  "kernelspec": {
   "display_name": "Python 3",
   "language": "python",
   "name": "python3"
  },
  "language_info": {
   "codemirror_mode": {
    "name": "ipython",
    "version": 3
   },
   "file_extension": ".py",
   "mimetype": "text/x-python",
   "name": "python",
   "nbconvert_exporter": "python",
   "pygments_lexer": "ipython3",
   "version": "3.7.3"
  }
 },
 "nbformat": 4,
 "nbformat_minor": 2
}
